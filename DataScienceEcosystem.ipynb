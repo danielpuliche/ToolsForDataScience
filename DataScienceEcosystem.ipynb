{
  "nbformat": 4,
  "nbformat_minor": 0,
  "metadata": {
    "colab": {
      "provenance": [],
      "authorship_tag": "ABX9TyO6A0U24ovgxhyjMssALMnb",
      "include_colab_link": true
    },
    "kernelspec": {
      "name": "python3",
      "display_name": "Python 3"
    },
    "language_info": {
      "name": "python"
    }
  },
  "cells": [
    {
      "cell_type": "markdown",
      "metadata": {
        "id": "view-in-github",
        "colab_type": "text"
      },
      "source": [
        "<a href=\"https://colab.research.google.com/github/danielpuliche/ToolsForDataScience/blob/main/DataScienceEcosystem.ipynb\" target=\"_parent\"><img src=\"https://colab.research.google.com/assets/colab-badge.svg\" alt=\"Open In Colab\"/></a>"
      ]
    },
    {
      "cell_type": "markdown",
      "source": [
        "# Data Science Tools and Ecosystem"
      ],
      "metadata": {
        "id": "byLYHtzOEAV4"
      }
    },
    {
      "cell_type": "markdown",
      "source": [
        "In this notebook, Data Science Tools and Ecosystem are summarized."
      ],
      "metadata": {
        "id": "AqMapuuiEeG8"
      }
    },
    {
      "cell_type": "markdown",
      "source": [
        "Objectives:\n",
        "\n",
        "- List popular languages for Data Science\n",
        "- List libraries used by Data Scientists\n",
        "- Evaluate arithmetic expressions"
      ],
      "metadata": {
        "id": "sU0KODs1Ke_a"
      }
    },
    {
      "cell_type": "markdown",
      "source": [
        "Some of the popular languages that Data Scientist use are:\n",
        "\n",
        "1. Python\n",
        "2. R\n",
        "3. Scala"
      ],
      "metadata": {
        "id": "nb7hsDbLExzX"
      }
    },
    {
      "cell_type": "markdown",
      "source": [
        "Some of the commonly used libraries used by Data Scientists include:\n",
        "\n",
        "1. Pandas\n",
        "2. NumPy\n",
        "3. Matplotlib\n",
        "4. Seaborn"
      ],
      "metadata": {
        "id": "hDaIQbWzF0yy"
      }
    },
    {
      "cell_type": "markdown",
      "source": [
        "| Data Science Tools |\n",
        "|--------------------|\n",
        "|    Jupyter Lab     |\n",
        "|      Anaconda      |\n",
        "|  VisualStudio Code |"
      ],
      "metadata": {
        "id": "YY5jfPSXGdKD"
      }
    },
    {
      "cell_type": "markdown",
      "source": [
        "Below are a few examples of evaluating arithmetic expression in Python"
      ],
      "metadata": {
        "id": "AgShlRKII5mz"
      }
    },
    {
      "cell_type": "code",
      "source": [
        "# This a simple arithmetic expression to multiply then add integers\n",
        "(3*4)+5"
      ],
      "metadata": {
        "colab": {
          "base_uri": "https://localhost:8080/"
        },
        "id": "un2HR9haJXzs",
        "outputId": "cd9e5ca0-6577-41d2-c13e-6c042f6ef8c8"
      },
      "execution_count": 1,
      "outputs": [
        {
          "output_type": "execute_result",
          "data": {
            "text/plain": [
              "17"
            ]
          },
          "metadata": {},
          "execution_count": 1
        }
      ]
    },
    {
      "cell_type": "code",
      "source": [
        "#This will convert 200 minutes to hours by dividing by 60\n",
        "t_minutes = 200\n",
        "t_hours = t_minutes/60\n",
        "t_hours"
      ],
      "metadata": {
        "colab": {
          "base_uri": "https://localhost:8080/"
        },
        "id": "LT_YylPuJ00C",
        "outputId": "bb3a9495-9a09-4cc8-d198-27de22b40a50"
      },
      "execution_count": 2,
      "outputs": [
        {
          "output_type": "execute_result",
          "data": {
            "text/plain": [
              "3.3333333333333335"
            ]
          },
          "metadata": {},
          "execution_count": 2
        }
      ]
    },
    {
      "cell_type": "markdown",
      "source": [
        "## Author\n",
        "Daniel Fernando Puliche Cañas"
      ],
      "metadata": {
        "id": "ULzk5aC4LET7"
      }
    }
  ]
}